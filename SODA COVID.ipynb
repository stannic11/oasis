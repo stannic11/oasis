{
 "cells": [
  {
   "cell_type": "code",
   "execution_count": 28,
   "metadata": {},
   "outputs": [],
   "source": [
    "import pandas as pd\n",
    "from sodapy import Socrata"
   ]
  },
  {
   "cell_type": "code",
   "execution_count": 30,
   "metadata": {},
   "outputs": [],
   "source": [
    "client = Socrata(\"healthdata.gov\",\"4OmJdnsLoc94vwZg59h9v0Ffo\")"
   ]
  },
  {
   "cell_type": "code",
   "execution_count": 31,
   "metadata": {},
   "outputs": [],
   "source": [
    "results = client.get(\"uqq2-txqb\", limit=2000)\n"
   ]
  },
  {
   "cell_type": "code",
   "execution_count": 32,
   "metadata": {},
   "outputs": [],
   "source": [
    "results_df = pd.DataFrame.from_records(results)"
   ]
  },
  {
   "cell_type": "code",
   "execution_count": 60,
   "metadata": {},
   "outputs": [],
   "source": [
    "results_df = results_df[results_df.city==\"DENVER\"]"
   ]
  },
  {
   "cell_type": "code",
   "execution_count": 62,
   "metadata": {},
   "outputs": [
    {
     "name": "stdout",
     "output_type": "stream",
     "text": [
      "    hospital_pk          collection_week state  \\\n",
      "650      060014  2021-05-28T00:00:00.000    CO   \n",
      "651      062012  2021-05-28T00:00:00.000    CO   \n",
      "652      060011  2021-05-28T00:00:00.000    CO   \n",
      "653      060028  2021-05-28T00:00:00.000    CO   \n",
      "654      060064  2021-05-28T00:00:00.000    CO   \n",
      "655      060032  2021-05-28T00:00:00.000    CO   \n",
      "656      062009  2021-05-28T00:00:00.000    CO   \n",
      "657      060107  2021-05-28T00:00:00.000    CO   \n",
      "\n",
      "                                hospital_name    zip hospital_subtype  \\\n",
      "650     PRESBYTERIAN ST LUKE'S MEDICAL CENTER  80218       Short Term   \n",
      "651          PAM SPECIALTY HOSPITAL OF DENVER  80204        Long Term   \n",
      "652              DENVER HEALTH MEDICAL CENTER  80204       Short Term   \n",
      "653                     SAINT JOSEPH HOSPITAL  80218       Short Term   \n",
      "654  CENTURA HEALTH-PORTER ADVENTIST HOSPITAL  80210       Short Term   \n",
      "655                       ROSE MEDICAL CENTER  80220       Short Term   \n",
      "656                   KINDRED HOSPITAL-DENVER  80218        Long Term   \n",
      "657                    NATIONAL JEWISH HEALTH  80206       Short Term   \n",
      "\n",
      "    is_metro_micro total_beds_7_day_avg all_adult_hospital_beds_7_day_avg  \\\n",
      "650           true                492.0                             327.0   \n",
      "651           true                 63.0                              63.0   \n",
      "652           true                508.7                             416.9   \n",
      "653           true                383.0                             329.0   \n",
      "654           true                 48.0                              48.0   \n",
      "655           true                271.0                             247.0   \n",
      "656           true                 68.0                              68.0   \n",
      "657           true                 25.0                              18.0   \n",
      "\n",
      "    all_adult_hospital_inpatient_beds_7_day_avg  ...  \\\n",
      "650                                       304.0  ...   \n",
      "651                                        63.0  ...   \n",
      "652                                       363.9  ...   \n",
      "653                                       329.0  ...   \n",
      "654                                        48.0  ...   \n",
      "655                                       212.0  ...   \n",
      "656                                        50.9  ...   \n",
      "657                                         6.0  ...   \n",
      "\n",
      "    total_personnel_covid_vaccinated_doses_none_7_day  \\\n",
      "650                                               NaN   \n",
      "651                                                89   \n",
      "652                                              1121   \n",
      "653                                              1476   \n",
      "654                                               NaN   \n",
      "655                                               NaN   \n",
      "656                                                23   \n",
      "657                                               139   \n",
      "\n",
      "    total_personnel_covid_vaccinated_doses_one_7_day  \\\n",
      "650                                              NaN   \n",
      "651                                              134   \n",
      "652                                             7287   \n",
      "653                                             3623   \n",
      "654                                              NaN   \n",
      "655                                              NaN   \n",
      "656                                              176   \n",
      "657                                               17   \n",
      "\n",
      "    total_personnel_covid_vaccinated_doses_all_7_day  \\\n",
      "650                                              NaN   \n",
      "651                                               89   \n",
      "652                                             7156   \n",
      "653                                             3473   \n",
      "654                                              NaN   \n",
      "655                                              NaN   \n",
      "656                                              167   \n",
      "657                                             1537   \n",
      "\n",
      "    previous_week_patients_covid_vaccinated_doses_one_7_day  \\\n",
      "650                                                NaN        \n",
      "651                                                  0        \n",
      "652                                               1476        \n",
      "653                                                  0        \n",
      "654                                                NaN        \n",
      "655                                                NaN        \n",
      "656                                                  0        \n",
      "657                                                  0        \n",
      "\n",
      "    previous_week_patients_covid_vaccinated_doses_all_7_day  \\\n",
      "650                                                NaN        \n",
      "651                                                  0        \n",
      "652                                               2392        \n",
      "653                                                  0        \n",
      "654                                                NaN        \n",
      "655                                                NaN        \n",
      "656                                                  0        \n",
      "657                                                338        \n",
      "\n",
      "               address    city     ccn fips_code      hhs_ids  \n",
      "650    1719 E 19TH AVE  DENVER  060014     08031  [C060014-A]  \n",
      "651    1690 N MEADE ST  DENVER  062012     08031  [C062012-A]  \n",
      "652     777 BANNOCK ST  DENVER  060011     08031  [C060011-A]  \n",
      "653    1375 E 19TH AVE  DENVER  060028     08031  [C060028-A]  \n",
      "654  2525 S DOWNING ST  DENVER  060064     08031  [C060064-A]  \n",
      "655     4567 E 9TH AVE  DENVER  060032     08031  [C060032-A]  \n",
      "656     1920 N HIGH ST  DENVER  062009     08031  [C062009-A]  \n",
      "657    1400 JACKSON ST  DENVER  060107     08031  [C060107-A]  \n",
      "\n",
      "[8 rows x 105 columns]\n"
     ]
    }
   ],
   "source": [
    "print(results_df)"
   ]
  },
  {
   "cell_type": "code",
   "execution_count": 100,
   "metadata": {},
   "outputs": [
    {
     "name": "stdout",
     "output_type": "stream",
     "text": [
      "[nan, 71.47435897435898, 92.79748136725777, 82.78114792347176, nan, nan, 93.71584699453553, 91.78972238629652]\n"
     ]
    }
   ],
   "source": [
    "vaccinated =[]\n",
    "for index, row in results_df.iterrows():\n",
    "    total=float(row['total_personnel_covid_vaccinated_doses_none_7_day'])+float(row['total_personnel_covid_vaccinated_doses_one_7_day'])+float(row['total_personnel_covid_vaccinated_doses_all_7_day'])\n",
    "    part=float(row['total_personnel_covid_vaccinated_doses_one_7_day'])+float(row['total_personnel_covid_vaccinated_doses_all_7_day'])\n",
    "    vaccinated.append((part/total))\n",
    "print(vaccinated)"
   ]
  },
  {
   "cell_type": "code",
   "execution_count": 154,
   "metadata": {},
   "outputs": [
    {
     "name": "stdout",
     "output_type": "stream",
     "text": [
      "['-104.967175', '-105.035815', '-104.990066', '-104.972135', '-104.973482', '-104.934011', '-104.9645', '-104.942892'] [' 39.746089', ' 39.743568', ' 39.72823', ' 39.745722', ' 39.67064', ' 39.731076', '39.7462', ' 39.740019']\n",
      "[0.3788912579957356, 0.7714285714285715, 0.9329058850469429, 0.5760445682451254, 0.2708333333333333, 0.610593220338983, 0.9449901768172888, 0]\n",
      "[nan, 0.7147435897435898, 0.9279748136725777, 0.8278114792347177, nan, nan, 0.9371584699453552, 0.9178972238629651]\n",
      "['1719 E 19TH AVE', '1690 N MEADE ST', '777 BANNOCK ST', '1375 E 19TH AVE', '2525 S DOWNING ST', '4567 E 9TH AVE', '1920 N HIGH ST', '1400 JACKSON ST']\n",
      "[\"PRESBYTERIAN ST LUKE'S MEDICAL CENTER\", 'PAM SPECIALTY HOSPITAL OF DENVER', 'DENVER HEALTH MEDICAL CENTER', 'SAINT JOSEPH HOSPITAL', 'CENTURA HEALTH-PORTER ADVENTIST HOSPITAL', 'ROSE MEDICAL CENTER', 'KINDRED HOSPITAL-DENVER', 'NATIONAL JEWISH HEALTH']\n"
     ]
    }
   ],
   "source": [
    "InpatientBeds =[]\n",
    "vaccinated =[]\n",
    "Longitude = []\n",
    "Latitude = []\n",
    "addresses=[]\n",
    "names=[]\n",
    "for index, row in results_df.iterrows():\n",
    "    total=float(row['inpatient_beds_7_day_avg'])\n",
    "    part=float(row['inpatient_beds_used_7_day_avg'])\n",
    "    if part>0 :\n",
    "        InpatientBeds.append((part/total))\n",
    "    else :\n",
    "       InpatientBeds.append(0) \n",
    "    if isinstance(row['geocoded_hospital_address'],dict):\n",
    "        Point=row['geocoded_hospital_address'].get(\"coordinates\")\n",
    "        splitPoint=str(Point).split(',')\n",
    "        Longitude.append(splitPoint[0].strip(\"[\"))\n",
    "        Latitude.append(splitPoint[1].strip(\"]\"))\n",
    "    else:\n",
    "        Longitude.append('-104.9645')\n",
    "        Latitude.append('39.7462')\n",
    "    total=float(row['total_personnel_covid_vaccinated_doses_none_7_day'])+float(row['total_personnel_covid_vaccinated_doses_one_7_day'])+float(row['total_personnel_covid_vaccinated_doses_all_7_day'])\n",
    "    part=float(row['total_personnel_covid_vaccinated_doses_one_7_day'])+float(row['total_personnel_covid_vaccinated_doses_all_7_day'])\n",
    "    vaccinated.append((part/total))\n",
    "    address=row['address']\n",
    "    addresses.append(address)\n",
    "    name=row['hospital_name']\n",
    "    names.append(name)\n",
    "        \n",
    "print(Longitude, Latitude)\n",
    "print(InpatientBeds)\n",
    "print(vaccinated)\n",
    "print(addresses)\n",
    "print(names)"
   ]
  },
  {
   "cell_type": "code",
   "execution_count": 155,
   "metadata": {},
   "outputs": [
    {
     "name": "stdout",
     "output_type": "stream",
     "text": [
      "{'Name': [\"PRESBYTERIAN ST LUKE'S MEDICAL CENTER\", 'PAM SPECIALTY HOSPITAL OF DENVER', 'DENVER HEALTH MEDICAL CENTER', 'SAINT JOSEPH HOSPITAL', 'CENTURA HEALTH-PORTER ADVENTIST HOSPITAL', 'ROSE MEDICAL CENTER', 'KINDRED HOSPITAL-DENVER', 'NATIONAL JEWISH HEALTH'], 'Address': ['1719 E 19TH AVE', '1690 N MEADE ST', '777 BANNOCK ST', '1375 E 19TH AVE', '2525 S DOWNING ST', '4567 E 9TH AVE', '1920 N HIGH ST', '1400 JACKSON ST'], 'Longitude': ['-104.967175', '-105.035815', '-104.990066', '-104.972135', '-104.973482', '-104.934011', '-104.9645', '-104.942892'], 'Latitude': [' 39.746089', ' 39.743568', ' 39.72823', ' 39.745722', ' 39.67064', ' 39.731076', '39.7462', ' 39.740019'], 'Occupancy': [0.3788912579957356, 0.7714285714285715, 0.9329058850469429, 0.5760445682451254, 0.2708333333333333, 0.610593220338983, 0.9449901768172888, 0], 'VaccinatedPersonnnel': [nan, 0.7147435897435898, 0.9279748136725777, 0.8278114792347177, nan, nan, 0.9371584699453552, 0.9178972238629651]}\n"
     ]
    }
   ],
   "source": [
    "FinalHospitalSheet={\n",
    "    'Name':names,\n",
    "    'Address':addresses,\n",
    "    'Longitude':Longitude,\n",
    "    'Latitude':Latitude,\n",
    "    'Occupancy':InpatientBeds,\n",
    "    'VaccinatedPersonnnel':vaccinated\n",
    "}\n",
    "print(FinalHospitalSheet)"
   ]
  },
  {
   "cell_type": "code",
   "execution_count": 156,
   "metadata": {},
   "outputs": [
    {
     "name": "stdout",
     "output_type": "stream",
     "text": [
      "                                       Name            Address    Longitude  \\\n",
      "0     PRESBYTERIAN ST LUKE'S MEDICAL CENTER    1719 E 19TH AVE  -104.967175   \n",
      "1          PAM SPECIALTY HOSPITAL OF DENVER    1690 N MEADE ST  -105.035815   \n",
      "2              DENVER HEALTH MEDICAL CENTER     777 BANNOCK ST  -104.990066   \n",
      "3                     SAINT JOSEPH HOSPITAL    1375 E 19TH AVE  -104.972135   \n",
      "4  CENTURA HEALTH-PORTER ADVENTIST HOSPITAL  2525 S DOWNING ST  -104.973482   \n",
      "5                       ROSE MEDICAL CENTER     4567 E 9TH AVE  -104.934011   \n",
      "6                   KINDRED HOSPITAL-DENVER     1920 N HIGH ST    -104.9645   \n",
      "7                    NATIONAL JEWISH HEALTH    1400 JACKSON ST  -104.942892   \n",
      "\n",
      "     Latitude  Occupancy  VaccinatedPersonnnel  \n",
      "0   39.746089   0.378891                   NaN  \n",
      "1   39.743568   0.771429              0.714744  \n",
      "2    39.72823   0.932906              0.927975  \n",
      "3   39.745722   0.576045              0.827811  \n",
      "4    39.67064   0.270833                   NaN  \n",
      "5   39.731076   0.610593                   NaN  \n",
      "6     39.7462   0.944990              0.937158  \n",
      "7   39.740019   0.000000              0.917897  \n"
     ]
    }
   ],
   "source": [
    "Finaldf=pd.DataFrame.from_dict(FinalHospitalSheet)\n",
    "print(Finaldf)"
   ]
  },
  {
   "cell_type": "code",
   "execution_count": 158,
   "metadata": {},
   "outputs": [],
   "source": [
    "Finaldf.to_csv (r'C:\\Users\\pragyajha\\OasisDataSets\\Hospital.CSV', index = None, header=True) "
   ]
  },
  {
   "cell_type": "code",
   "execution_count": 160,
   "metadata": {},
   "outputs": [
    {
     "name": "stdout",
     "output_type": "stream",
     "text": [
      "{'status': 'OK', 'analysis': {'venue_forecasted_busyness': 65, 'venue_forecasted_busyness_available': True, 'venue_live_busyness': 45, 'venue_live_busyness_available': True, 'venue_live_forecasted_delta': -20, 'hour_start': 19, 'hour_start_12': '7PM', 'hour_end': 20, 'hour_end_12': '8PM'}, 'venue_info': {'venue_current_gmttime': 'Sunday 2021-06-13 01:26AM', 'venue_current_localtime': 'Saturday 2021-06-12 07:26PM', 'venue_id': 'ven_5967334476674b39304c7a5263496234685a35366f596c4a496843', 'venue_name': 'Safeway', 'venue_address': '2660 N Federal Blvd Denver, CO 80211 United States', 'venue_timezone': 'America/Denver', 'venue_open': 'Open', 'venue_dwell_time_min': 20, 'venue_dwell_time_max': 20, 'venue_dwell_time_avg': 20}}\n"
     ]
    }
   ],
   "source": [
    "import requests\n",
    "\n",
    "url = \"https://besttime.app/api/v1/forecasts/live\"\n",
    "\n",
    "params = {\n",
    "    'api_key_private': 'pri_63197f62b217434ab16286fce1031b9a',\n",
    "    'venue_name': 'Safeway',\n",
    "    'venue_address': '2660 Federal Blvd, Denver'\n",
    "}\n",
    "\n",
    "response = requests.request(\"POST\", url, params=params)\n",
    "print(response.json())"
   ]
  },
  {
   "cell_type": "code",
   "execution_count": 3,
   "metadata": {},
   "outputs": [
    {
     "name": "stdout",
     "output_type": "stream",
     "text": [
      "                      STORE_TYPE                   STORE_NAME  \\\n",
      "0                   Dollar Store                  Dollar Tree   \n",
      "1                   Dollar Store                 Dollars City   \n",
      "2            Small Grocery Store        Leever's / Save A Lot   \n",
      "3              Convenience Store                     7-Eleven   \n",
      "4              Convenience Store          For Every Day Store   \n",
      "..                           ...                          ...   \n",
      "583            Convenience Store                       Aztlan   \n",
      "584  Discount Merchandise Market          Discount Empire Inc   \n",
      "585          Small Grocery Store  Walmart Neighborhood Market   \n",
      "586   Convenience Store With Gas                       Z-Mart   \n",
      "587           Closed Supermarket                      Safeway   \n",
      "\n",
      "           ADDRESS_LINE1    CITY STATE      ZIP   longitude   latitude  \\\n",
      "0      5190 Federal Blvd  Denver    CO  80221.0 -105.024782  39.790432   \n",
      "1          4855 Pecos St  Denver    CO  80221.0 -105.007082  39.784801   \n",
      "2          4860 Pecos St  Denver    CO  80221.0 -105.005719  39.784969   \n",
      "3    3810 N FEDERAL BLVD  Denver    CO      NaN -105.024892  39.769585   \n",
      "4          4595 Pecos St  Denver    CO  80211.0 -105.006843  39.779893   \n",
      "..                   ...     ...   ...      ...         ...        ...   \n",
      "583     4880 Chambers Rd  Denver    CO  80239.0 -104.809053  39.786122   \n",
      "584     4854 Chambers Rd  Denver    CO  80239.0 -104.809596  39.785291   \n",
      "585     5141 Chambers Rd  Denver    CO  80239.0 -104.809556  39.785584   \n",
      "586     14125 E 52ND AVE  Denver    CO      NaN -104.824200  39.790605   \n",
      "587     4884 Chambers Rd  Denver    CO  80239.0 -104.808876  39.786134   \n",
      "\n",
      "                        NBHD_NAME  \n",
      "0                    Chaffee Park  \n",
      "1                    Chaffee Park  \n",
      "2                    Chaffee Park  \n",
      "3                       Sunnyside  \n",
      "4                       Sunnyside  \n",
      "..                            ...  \n",
      "583  Gateway - Green Valley Ranch  \n",
      "584  Gateway - Green Valley Ranch  \n",
      "585  Gateway - Green Valley Ranch  \n",
      "586                     Montbello  \n",
      "587  Gateway - Green Valley Ranch  \n",
      "\n",
      "[588 rows x 9 columns]\n"
     ]
    }
   ],
   "source": [
    "import pandas as pd\n",
    "food_stores_df= pd.read_csv (r'food_stores.csv')\n",
    "print (food_stores_df)"
   ]
  },
  {
   "cell_type": "code",
   "execution_count": 5,
   "metadata": {},
   "outputs": [
    {
     "name": "stdout",
     "output_type": "stream",
     "text": [
      "[]\n"
     ]
    }
   ],
   "source": [
    "import requests\n",
    "url = \"https://besttime.app/api/v1/forecasts/live\"\n",
    "StoreOccupancy=[]\n",
    "for index, row in food_stores_df.iterrows():\n",
    "    types = row['STORE_TYPE']\n",
    "    if (types=='Supermarket') or (types=='Small Grocery Store'):\n",
    "        name=row['STORE_NAME']\n",
    "        addy=row['ADDRESS_LINE1']\n",
    "        params = {\n",
    "        'api_key_private': 'pri_63197f62b217434ab16286fce1031b9a',\n",
    "        'venue_name': name,\n",
    "        'venue_address': addy\n",
    "        }\n",
    "        responses=requests.request(\"POST\", url, params=params)\n",
    "        if isinstance(responses,dict):\n",
    "            BestTimeResponse_df = pd.DataFrame.from_dict(responses.json())\n",
    "            if(BestTimeResponse_df['analysis']['venue_live_busyness_available']):\n",
    "                StoreOccupancy.append(BestTimeResponse_df['analysis']['venue_live_busyness'])\n",
    "            else:\n",
    "                StoreOccupancy.append('nan') \n",
    "print(StoreOccupancy)"
   ]
  },
  {
   "cell_type": "code",
   "execution_count": null,
   "metadata": {},
   "outputs": [],
   "source": []
  }
 ],
 "metadata": {
  "kernelspec": {
   "display_name": "Python 3",
   "language": "python",
   "name": "python3"
  },
  "language_info": {
   "codemirror_mode": {
    "name": "ipython",
    "version": 3
   },
   "file_extension": ".py",
   "mimetype": "text/x-python",
   "name": "python",
   "nbconvert_exporter": "python",
   "pygments_lexer": "ipython3",
   "version": "3.8.5"
  }
 },
 "nbformat": 4,
 "nbformat_minor": 4
}
